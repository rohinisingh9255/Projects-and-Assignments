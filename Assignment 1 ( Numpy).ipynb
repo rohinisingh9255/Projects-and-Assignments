{
 "cells": [
  {
   "cell_type": "markdown",
   "id": "49040356",
   "metadata": {},
   "source": [
    "# 1. Create a list named ‘myList’ that is having the following elements: 10,20,30,’apple’, True, 8.10.\n",
    "   a. Now in the ‘myList’, append these values: 30,40\n",
    "   b. After that reverse the elements of the ‘myList’ and store that in ‘reversedList’\n",
    "2. Create a dictonary with key values as 1,2,3 and the values as ‘data’,’information’, and ‘text’.\n",
    "   a. After that eliminate the ‘text’ value form the dictonary.\n",
    "   b. Add ‘features’ in the dictonary.\n",
    "   c. Fetch the ‘data’ element from the dictonary and display it in the output.\n",
    "3. Create a tuple and add these elements 1,2,3,apple,mango in ‘my_tuple\n",
    "4. Create another tuple named numeric_tuple consisting of only integer values 10,20,30,40,50\n",
    "   a. Find the minimum value from the numeric_tuple.\n",
    "   b. Concatenate my_tuple with numeric_tuple and store the result in r1.\n",
    "   c. Duplicate the tuple named my_tuple 2 times and store that in ‘newdupli’.\n",
    "5. Create 2 sets with name set1 and set2, where set1 contains{1,2,3,4,5} and set2 to contains{2,3,7,6,1}\n",
    "   a. Perform the below operation:\n",
    "     a. set1 union set2\n",
    "     b. set1 intersection set2\n",
    "     c. set1 difference set2"
   ]
  },
  {
   "cell_type": "code",
   "execution_count": 1,
   "id": "1ea0e5e5",
   "metadata": {},
   "outputs": [],
   "source": [
    "myList= [10,20,30,'apple',True,8.10]"
   ]
  },
  {
   "cell_type": "code",
   "execution_count": 2,
   "id": "087977fe",
   "metadata": {},
   "outputs": [],
   "source": [
    "myList.append(30)\n",
    "myList.append(40)"
   ]
  },
  {
   "cell_type": "code",
   "execution_count": 3,
   "id": "ead63a89",
   "metadata": {},
   "outputs": [
    {
     "data": {
      "text/plain": [
       "[10, 20, 30, 'apple', True, 8.1, 30, 40]"
      ]
     },
     "execution_count": 3,
     "metadata": {},
     "output_type": "execute_result"
    }
   ],
   "source": [
    "myList"
   ]
  },
  {
   "cell_type": "code",
   "execution_count": 4,
   "id": "e85ac157",
   "metadata": {},
   "outputs": [],
   "source": [
    "myList.reverse()\n",
    "reversedList = myList"
   ]
  },
  {
   "cell_type": "code",
   "execution_count": 5,
   "id": "9f13920d",
   "metadata": {},
   "outputs": [
    {
     "data": {
      "text/plain": [
       "[40, 30, 8.1, True, 'apple', 30, 20, 10]"
      ]
     },
     "execution_count": 5,
     "metadata": {},
     "output_type": "execute_result"
    }
   ],
   "source": [
    "reversedList"
   ]
  },
  {
   "cell_type": "code",
   "execution_count": 6,
   "id": "035146c9",
   "metadata": {},
   "outputs": [],
   "source": [
    "Dict={1:'data',2:'information',3:'text'}"
   ]
  },
  {
   "cell_type": "code",
   "execution_count": 7,
   "id": "ed90c4b4",
   "metadata": {},
   "outputs": [],
   "source": [
    "del Dict[3]"
   ]
  },
  {
   "cell_type": "code",
   "execution_count": 8,
   "id": "49ad6312",
   "metadata": {},
   "outputs": [
    {
     "data": {
      "text/plain": [
       "{1: 'data', 2: 'information'}"
      ]
     },
     "execution_count": 8,
     "metadata": {},
     "output_type": "execute_result"
    }
   ],
   "source": [
    "Dict"
   ]
  },
  {
   "cell_type": "code",
   "execution_count": 9,
   "id": "ce7d235f",
   "metadata": {},
   "outputs": [],
   "source": [
    "Dict[3]='feature'"
   ]
  },
  {
   "cell_type": "code",
   "execution_count": 10,
   "id": "9cc4b33d",
   "metadata": {},
   "outputs": [
    {
     "data": {
      "text/plain": [
       "{1: 'data', 2: 'information', 3: 'feature'}"
      ]
     },
     "execution_count": 10,
     "metadata": {},
     "output_type": "execute_result"
    }
   ],
   "source": [
    "Dict"
   ]
  },
  {
   "cell_type": "code",
   "execution_count": 11,
   "id": "89c80fb9",
   "metadata": {},
   "outputs": [
    {
     "data": {
      "text/plain": [
       "'data'"
      ]
     },
     "execution_count": 11,
     "metadata": {},
     "output_type": "execute_result"
    }
   ],
   "source": [
    "Dict[1]"
   ]
  },
  {
   "cell_type": "code",
   "execution_count": 12,
   "id": "e51cd264",
   "metadata": {},
   "outputs": [],
   "source": [
    "my_tuple= (1,2,3,'apple','mango')"
   ]
  },
  {
   "cell_type": "code",
   "execution_count": 13,
   "id": "d1226310",
   "metadata": {},
   "outputs": [],
   "source": [
    "numeric_tuple = (10,20,30,40,50)"
   ]
  },
  {
   "cell_type": "code",
   "execution_count": 14,
   "id": "00355886",
   "metadata": {},
   "outputs": [
    {
     "data": {
      "text/plain": [
       "10"
      ]
     },
     "execution_count": 14,
     "metadata": {},
     "output_type": "execute_result"
    }
   ],
   "source": [
    "min(numeric_tuple)"
   ]
  },
  {
   "cell_type": "code",
   "execution_count": 15,
   "id": "e2dd23c3",
   "metadata": {},
   "outputs": [
    {
     "name": "stdout",
     "output_type": "stream",
     "text": [
      "(1, 2, 3, 'apple', 'mango', 10, 20, 30, 40, 50)\n"
     ]
    }
   ],
   "source": [
    "r1=my_tuple + numeric_tuple\n",
    "print(r1)"
   ]
  },
  {
   "cell_type": "code",
   "execution_count": 16,
   "id": "1b440d9d",
   "metadata": {},
   "outputs": [
    {
     "name": "stdout",
     "output_type": "stream",
     "text": [
      "(1, 2, 3, 'apple', 'mango', 1, 2, 3, 'apple', 'mango')\n"
     ]
    }
   ],
   "source": [
    "newdupli= my_tuple * 2\n",
    "print(newdupli)"
   ]
  },
  {
   "cell_type": "code",
   "execution_count": 17,
   "id": "6ce87b92",
   "metadata": {},
   "outputs": [],
   "source": [
    "s1= {1,2,3,4,5}\n",
    "s2= {2,3,7,6}"
   ]
  },
  {
   "cell_type": "code",
   "execution_count": 18,
   "id": "7b6f299f",
   "metadata": {},
   "outputs": [
    {
     "data": {
      "text/plain": [
       "{1, 2, 3, 4, 5, 6, 7}"
      ]
     },
     "execution_count": 18,
     "metadata": {},
     "output_type": "execute_result"
    }
   ],
   "source": [
    "s1|s2"
   ]
  },
  {
   "cell_type": "code",
   "execution_count": 19,
   "id": "533ecd8d",
   "metadata": {},
   "outputs": [
    {
     "data": {
      "text/plain": [
       "{2, 3}"
      ]
     },
     "execution_count": 19,
     "metadata": {},
     "output_type": "execute_result"
    }
   ],
   "source": [
    "s1 & s2"
   ]
  },
  {
   "cell_type": "code",
   "execution_count": 20,
   "id": "30bdbfe2",
   "metadata": {},
   "outputs": [
    {
     "data": {
      "text/plain": [
       "{1, 4, 5}"
      ]
     },
     "execution_count": 20,
     "metadata": {},
     "output_type": "execute_result"
    }
   ],
   "source": [
    "s1 - s2"
   ]
  },
  {
   "cell_type": "code",
   "execution_count": null,
   "id": "29f7a846",
   "metadata": {},
   "outputs": [],
   "source": []
  }
 ],
 "metadata": {
  "kernelspec": {
   "display_name": "Python 3",
   "language": "python",
   "name": "python3"
  },
  "language_info": {
   "codemirror_mode": {
    "name": "ipython",
    "version": 3
   },
   "file_extension": ".py",
   "mimetype": "text/x-python",
   "name": "python",
   "nbconvert_exporter": "python",
   "pygments_lexer": "ipython3",
   "version": "3.8.8"
  }
 },
 "nbformat": 4,
 "nbformat_minor": 5
}
