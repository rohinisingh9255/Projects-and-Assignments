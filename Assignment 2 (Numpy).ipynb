{
 "cells": [
  {
   "cell_type": "markdown",
   "id": "e451bb09",
   "metadata": {},
   "source": [
    "# 1. Create a 3x3 matrix array with values ranging from 2 to 10.\n",
    "2. Create a numpy array having user input values and convert the integer type to the float type of the elements of the array. For instance:\n",
    "   Original array [1, 2, 3, 4] \n",
    "   Array converted to a float type: [ 1. 2. 3. 4.]\n",
    "3. Write a Numpy program to append values to the end of an array. For instance:\n",
    "   Original array: [10, 20, 30] \n",
    "   After append values to the end of the array: [10 20 30 40 50 60 70 80 90]\n",
    "4. Create two numpy arrays and add the elements of both the arrays and store the result in sumArray.\n",
    "5. Create a 3*3 array having values from 10-90(interval of 10) and store that in array1. Perform the following tasks:\n",
    "   a. Extract the 1st row from the array.\n",
    "   b. Extract the last element from the array."
   ]
  },
  {
   "cell_type": "code",
   "execution_count": 1,
   "id": "70f745ae",
   "metadata": {},
   "outputs": [
    {
     "name": "stdout",
     "output_type": "stream",
     "text": [
      "[[ 2  3  4]\n",
      " [ 5  6  7]\n",
      " [ 8  9 10]]\n"
     ]
    }
   ],
   "source": [
    "import numpy as np\n",
    "x =  np.arange(2, 11).reshape(3,3)\n",
    "print(x)"
   ]
  },
  {
   "cell_type": "code",
   "execution_count": 2,
   "id": "57dbcad6",
   "metadata": {},
   "outputs": [],
   "source": [
    "arr = np.array([1,2,3,4])"
   ]
  },
  {
   "cell_type": "code",
   "execution_count": 3,
   "id": "67d4fde3",
   "metadata": {},
   "outputs": [
    {
     "data": {
      "text/plain": [
       "array([1., 2., 3., 4.])"
      ]
     },
     "execution_count": 3,
     "metadata": {},
     "output_type": "execute_result"
    }
   ],
   "source": [
    "arr1= arr.astype(float)\n",
    "arr1"
   ]
  },
  {
   "cell_type": "code",
   "execution_count": 4,
   "id": "d6bfd0d5",
   "metadata": {},
   "outputs": [],
   "source": [
    "a=[10,20,30]"
   ]
  },
  {
   "cell_type": "code",
   "execution_count": 5,
   "id": "9256c987",
   "metadata": {},
   "outputs": [
    {
     "data": {
      "text/plain": [
       "[10, 20, 30, 40, 50, 60, 70, 80, 90]"
      ]
     },
     "execution_count": 5,
     "metadata": {},
     "output_type": "execute_result"
    }
   ],
   "source": [
    "a.append(40)\n",
    "a.append(50)\n",
    "a.append(60)\n",
    "a.append(70)\n",
    "a.append(80)\n",
    "a.append(90)\n",
    "a"
   ]
  },
  {
   "cell_type": "code",
   "execution_count": 6,
   "id": "d33a5ca0",
   "metadata": {},
   "outputs": [],
   "source": [
    "x=np.array([1,2,3])\n",
    "y=np.array([4,5,6])"
   ]
  },
  {
   "cell_type": "code",
   "execution_count": 7,
   "id": "9e233f28",
   "metadata": {},
   "outputs": [
    {
     "name": "stdout",
     "output_type": "stream",
     "text": [
      "[5 7 9]\n"
     ]
    }
   ],
   "source": [
    "sumarray=x + y\n",
    "print(sumarray)"
   ]
  },
  {
   "cell_type": "code",
   "execution_count": 8,
   "id": "e7f80c76",
   "metadata": {},
   "outputs": [
    {
     "data": {
      "text/plain": [
       "array([[10, 20, 30],\n",
       "       [40, 50, 60],\n",
       "       [70, 80, 90]])"
      ]
     },
     "execution_count": 8,
     "metadata": {},
     "output_type": "execute_result"
    }
   ],
   "source": [
    "z=np.arange(10,100,10)\n",
    "array1=z.reshape(3,3)\n",
    "array1"
   ]
  },
  {
   "cell_type": "code",
   "execution_count": 9,
   "id": "0bdb6e66",
   "metadata": {},
   "outputs": [
    {
     "data": {
      "text/plain": [
       "array([10, 20, 30])"
      ]
     },
     "execution_count": 9,
     "metadata": {},
     "output_type": "execute_result"
    }
   ],
   "source": [
    "array1[0]"
   ]
  },
  {
   "cell_type": "code",
   "execution_count": 10,
   "id": "2f1c1113",
   "metadata": {},
   "outputs": [
    {
     "data": {
      "text/plain": [
       "90"
      ]
     },
     "execution_count": 10,
     "metadata": {},
     "output_type": "execute_result"
    }
   ],
   "source": [
    "array1[2,2]"
   ]
  },
  {
   "cell_type": "code",
   "execution_count": null,
   "id": "1d4db0f4",
   "metadata": {},
   "outputs": [],
   "source": []
  }
 ],
 "metadata": {
  "kernelspec": {
   "display_name": "Python 3",
   "language": "python",
   "name": "python3"
  },
  "language_info": {
   "codemirror_mode": {
    "name": "ipython",
    "version": 3
   },
   "file_extension": ".py",
   "mimetype": "text/x-python",
   "name": "python",
   "nbconvert_exporter": "python",
   "pygments_lexer": "ipython3",
   "version": "3.8.8"
  }
 },
 "nbformat": 4,
 "nbformat_minor": 5
}
